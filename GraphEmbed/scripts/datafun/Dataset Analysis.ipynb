{
 "cells": [
  {
   "cell_type": "code",
   "execution_count": 1,
   "metadata": {},
   "outputs": [],
   "source": [
    "%matplotlib inline\n",
    "from dataset import Dataset\n",
    "import warnings\n",
    "warnings.filterwarnings('ignore')"
   ]
  },
  {
   "cell_type": "code",
   "execution_count": 2,
   "metadata": {},
   "outputs": [],
   "source": [
    "datasets=[\"youtube\",\"dblp\",\"amazon\"] + [\"lj\"] * 8 + [\"orkut\"] * 3\n",
    "dataset_min_nodes=[16,16,21] + list(range(51,131,10)) + [151,251,351]\n",
    "dataset_max_nodes=[20,20,25] + list(range(55,135,10)) + [155,255,355]"
   ]
  },
  {
   "cell_type": "code",
   "execution_count": null,
   "metadata": {},
   "outputs": [
    {
     "name": "stdout",
     "output_type": "stream",
     "text": [
      "   youtube  16- 20  341 3.00 0.18\n",
      "      dblp  16- 20  657 4.93 0.29\n",
      "    amazon  21- 25 1428 4.01 0.18\n",
      "        lj  51- 55 1507 0.34 0.01\n",
      "        lj  61- 65 1104 0.51 0.01\n",
      "        lj  71- 75  809 0.53 0.01\n",
      "        lj  81- 85  675 0.51 0.01\n",
      "        lj  91- 95  500 0.95 0.01\n",
      "        lj 101-105  403 0.48 0.00\n",
      "        lj 111-115  354 0.36 0.00\n",
      "        lj 121-125  335 0.38 0.00\n",
      "     orkut 151-155 1871 7.20 0.05\n"
     ]
    }
   ],
   "source": [
    "for dataset_name, min_size, max_size in zip(datasets, dataset_min_nodes, dataset_max_nodes):\n",
    "    d = Dataset(dataset_name, min_size, max_size,bin_size=1)\n",
    "    count = d.count()\n",
    "    degree = d.analyze_degree(plot=False)\n",
    "    density = d.analyze_density(plot=False)\n",
    "    print('{:>10} {:3d}-{:3d} {:4d} {:.2f} {:.2f}'.format(dataset_name, min_size, max_size, count, degree, density))"
   ]
  },
  {
   "cell_type": "code",
   "execution_count": null,
   "metadata": {},
   "outputs": [],
   "source": [
    "# for dataset_name, min_size, max_size in zip(datasets, dataset_min_nodes, dataset_max_nodes):\n",
    "#     print('====={} {}-{}====='.format(dataset_name, min_size, max_size))\n",
    "#     d = Dataset(dataset_name, min_size, max_size,bin_size=1)\n",
    "#     d.size_trend()\n",
    "#     d.analyze_size()\n",
    "#     d.analyze_degree()\n",
    "#     d.analyze_density()\n",
    "#     d.plot_random_graph(min_size,max_size)\n",
    "#     print()"
   ]
  },
  {
   "cell_type": "code",
   "execution_count": null,
   "metadata": {},
   "outputs": [],
   "source": []
  },
  {
   "cell_type": "code",
   "execution_count": null,
   "metadata": {},
   "outputs": [],
   "source": []
  }
 ],
 "metadata": {
  "kernelspec": {
   "display_name": "Python 3",
   "language": "python",
   "name": "python3"
  },
  "language_info": {
   "codemirror_mode": {
    "name": "ipython",
    "version": 3
   },
   "file_extension": ".py",
   "mimetype": "text/x-python",
   "name": "python",
   "nbconvert_exporter": "python",
   "pygments_lexer": "ipython3",
   "version": "3.6.13"
  }
 },
 "nbformat": 4,
 "nbformat_minor": 2
}
